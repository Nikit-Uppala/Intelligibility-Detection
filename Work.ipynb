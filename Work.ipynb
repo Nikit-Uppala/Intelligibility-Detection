{
 "cells": [
  {
   "cell_type": "code",
   "execution_count": 2,
   "id": "d75c8af1",
   "metadata": {},
   "outputs": [],
   "source": [
    "from pydub import AudioSegment\n",
    "import os, traceback, sys\n",
    "from tqdm import tqdm\n",
    "import pandas as pd\n",
    "import numpy as np"
   ]
  },
  {
   "cell_type": "code",
   "execution_count": 73,
   "id": "112c053b",
   "metadata": {},
   "outputs": [
    {
     "name": "stderr",
     "output_type": "stream",
     "text": [
      "  2%|██▎                                                                                                                                                 | 410/26232 [00:11<11:45, 36.59it/s]\n"
     ]
    },
    {
     "ename": "KeyboardInterrupt",
     "evalue": "",
     "output_type": "error",
     "traceback": [
      "\u001b[0;31m---------------------------------------------------------------------------\u001b[0m",
      "\u001b[0;31mKeyboardInterrupt\u001b[0m                         Traceback (most recent call last)",
      "Input \u001b[0;32mIn [73]\u001b[0m, in \u001b[0;36m<cell line: 82>\u001b[0;34m()\u001b[0m\n\u001b[1;32m     86\u001b[0m segmentdatafileloc \u001b[38;5;241m=\u001b[39m \u001b[38;5;124m'\u001b[39m\u001b[38;5;124m./word_level_boundaries/\u001b[39m\u001b[38;5;124m'\u001b[39m\n\u001b[1;32m     87\u001b[0m cinstance \u001b[38;5;241m=\u001b[39m Words_Seperator(datacsv,segmentdatafileloc,savingloc,sentence_npy)\n\u001b[0;32m---> 88\u001b[0m \u001b[43mcinstance\u001b[49m\u001b[38;5;241;43m.\u001b[39;49m\u001b[43mrun\u001b[49m\u001b[43m(\u001b[49m\u001b[43m)\u001b[49m\n",
      "Input \u001b[0;32mIn [73]\u001b[0m, in \u001b[0;36mWords_Seperator.run\u001b[0;34m(self)\u001b[0m\n\u001b[1;32m     56\u001b[0m         \u001b[38;5;28;01mfor\u001b[39;00m i \u001b[38;5;129;01min\u001b[39;00m tqdm(segmentsfiles):\n\u001b[1;32m     57\u001b[0m \u001b[38;5;66;03m#             print(self.CorrectFileName(i))\u001b[39;00m\n\u001b[1;32m     58\u001b[0m \u001b[38;5;66;03m#             count+=1\u001b[39;00m\n\u001b[1;32m     59\u001b[0m             \u001b[38;5;28;01mif\u001b[39;00m(\u001b[38;5;28mself\u001b[39m\u001b[38;5;241m.\u001b[39mCorrectFileName(i) \u001b[38;5;129;01min\u001b[39;00m \u001b[38;5;28mself\u001b[39m\u001b[38;5;241m.\u001b[39mfiledict \u001b[38;5;129;01mand\u001b[39;00m \u001b[38;5;28mself\u001b[39m\u001b[38;5;241m.\u001b[39mCorrectFileName(i) \u001b[38;5;129;01min\u001b[39;00m \u001b[38;5;28mself\u001b[39m\u001b[38;5;241m.\u001b[39mdatadict):\n\u001b[0;32m---> 60\u001b[0m                 stamps \u001b[38;5;241m=\u001b[39m \u001b[38;5;28;43mself\u001b[39;49m\u001b[38;5;241;43m.\u001b[39;49m\u001b[43mgetsegments\u001b[49m\u001b[43m(\u001b[49m\u001b[43mi\u001b[49m\u001b[43m)\u001b[49m\n\u001b[1;32m     61\u001b[0m                 fileloc \u001b[38;5;241m=\u001b[39m os\u001b[38;5;241m.\u001b[39mpath\u001b[38;5;241m.\u001b[39mjoin(\u001b[38;5;28mself\u001b[39m\u001b[38;5;241m.\u001b[39msentence_npy,\u001b[38;5;28mself\u001b[39m\u001b[38;5;241m.\u001b[39mfiledict[\u001b[38;5;28mself\u001b[39m\u001b[38;5;241m.\u001b[39mCorrectFileName(i)])\n\u001b[1;32m     62\u001b[0m                 data \u001b[38;5;241m=\u001b[39m np\u001b[38;5;241m.\u001b[39mload(fileloc)\n",
      "Input \u001b[0;32mIn [73]\u001b[0m, in \u001b[0;36mWords_Seperator.getsegments\u001b[0;34m(self, filename)\u001b[0m\n\u001b[1;32m     34\u001b[0m data \u001b[38;5;241m=\u001b[39m []\n\u001b[1;32m     35\u001b[0m \u001b[38;5;28;01mwith\u001b[39;00m \u001b[38;5;28mopen\u001b[39m(os\u001b[38;5;241m.\u001b[39mpath\u001b[38;5;241m.\u001b[39mjoin(\u001b[38;5;28mself\u001b[39m\u001b[38;5;241m.\u001b[39msgmtdatfileloc,filename),\u001b[38;5;124m'\u001b[39m\u001b[38;5;124mr\u001b[39m\u001b[38;5;124m'\u001b[39m) \u001b[38;5;28;01mas\u001b[39;00m f:\n\u001b[0;32m---> 36\u001b[0m     lines \u001b[38;5;241m=\u001b[39m \u001b[43mf\u001b[49m\u001b[38;5;241;43m.\u001b[39;49m\u001b[43mreadlines\u001b[49m\u001b[43m(\u001b[49m\u001b[43m)\u001b[49m\n\u001b[1;32m     37\u001b[0m \u001b[38;5;28;01mfor\u001b[39;00m i \u001b[38;5;129;01min\u001b[39;00m lines:\n\u001b[1;32m     38\u001b[0m     \u001b[38;5;28;01mtry\u001b[39;00m: \n",
      "File \u001b[0;32m/usr/lib/python3.8/codecs.py:319\u001b[0m, in \u001b[0;36mBufferedIncrementalDecoder.decode\u001b[0;34m(self, input, final)\u001b[0m\n\u001b[1;32m    314\u001b[0m \u001b[38;5;28;01mdef\u001b[39;00m \u001b[38;5;21m_buffer_decode\u001b[39m(\u001b[38;5;28mself\u001b[39m, \u001b[38;5;28minput\u001b[39m, errors, final):\n\u001b[1;32m    315\u001b[0m     \u001b[38;5;66;03m# Overwrite this method in subclasses: It must decode input\u001b[39;00m\n\u001b[1;32m    316\u001b[0m     \u001b[38;5;66;03m# and return an (output, length consumed) tuple\u001b[39;00m\n\u001b[1;32m    317\u001b[0m     \u001b[38;5;28;01mraise\u001b[39;00m \u001b[38;5;167;01mNotImplementedError\u001b[39;00m\n\u001b[0;32m--> 319\u001b[0m \u001b[38;5;28;01mdef\u001b[39;00m \u001b[38;5;21mdecode\u001b[39m(\u001b[38;5;28mself\u001b[39m, \u001b[38;5;28minput\u001b[39m, final\u001b[38;5;241m=\u001b[39m\u001b[38;5;28;01mFalse\u001b[39;00m):\n\u001b[1;32m    320\u001b[0m     \u001b[38;5;66;03m# decode input (taking the buffer into account)\u001b[39;00m\n\u001b[1;32m    321\u001b[0m     data \u001b[38;5;241m=\u001b[39m \u001b[38;5;28mself\u001b[39m\u001b[38;5;241m.\u001b[39mbuffer \u001b[38;5;241m+\u001b[39m \u001b[38;5;28minput\u001b[39m\n\u001b[1;32m    322\u001b[0m     (result, consumed) \u001b[38;5;241m=\u001b[39m \u001b[38;5;28mself\u001b[39m\u001b[38;5;241m.\u001b[39m_buffer_decode(data, \u001b[38;5;28mself\u001b[39m\u001b[38;5;241m.\u001b[39merrors, final)\n",
      "\u001b[0;31mKeyboardInterrupt\u001b[0m: "
     ]
    }
   ],
   "source": [
    "class Words_Seperator:\n",
    "    def __init__(self, datacsv, segmentdatafileloc, savingloc, sentence_npy) -> None:\n",
    "        self.datacsv = datacsv\n",
    "        self.sgmtdatfileloc = segmentdatafileloc\n",
    "        self.saveloc = savingloc\n",
    "        self.sentence_npy = sentence_npy\n",
    "        self.columns = []\n",
    "        self.datadict = {}\n",
    "        self.filedict = {}\n",
    "        self.newdata = []\n",
    "\n",
    "    def CorrectFileName(self,val):\n",
    "        parts = val.split('.')[0].split('_')\n",
    "        if(len(parts)>1):\n",
    "            splitit = parts[3].split('-')\n",
    "            if(len(splitit)==1): parts[3]=str(int(parts[3]))\n",
    "            else: parts[3]=str(int(splitit[0]))+'-'+str(int(splitit[1]))\n",
    "        return '_'.join(parts)\n",
    "\n",
    "    def gendata(self):\n",
    "        data = pd.read_csv(self.datacsv)\n",
    "        self.columns = data.columns\n",
    "        data = data.to_numpy()\n",
    "        for i in data: self.datadict[self.CorrectFileName(i[0])]=np.array(i[1:])\n",
    "    \n",
    "    def genfile(self):\n",
    "        try: files = list(filter(lambda x:x.split('.')[1]=='npy',os.listdir(self.sentence_npy)))\n",
    "        except Exception as e:\n",
    "            traceback.print_exc()\n",
    "            sys.exit(3)\n",
    "        for i in files: self.filedict[self.CorrectFileName(i)]=i\n",
    "\n",
    "    def getsegments(self,filename):\n",
    "        data = []\n",
    "        with open(os.path.join(self.sgmtdatfileloc,filename),'r') as f:\n",
    "            lines = f.readlines()\n",
    "        for i in lines:\n",
    "            try: \n",
    "                splited_line = i.split('\\t')\n",
    "                word = splited_line[0]\n",
    "                start = float(splited_line[1])\n",
    "                end = float(splited_line[2])\n",
    "                data.append([start,end,word])\n",
    "            except Exception as e: print(e)\n",
    "        return data\n",
    "\n",
    "    def run(self):\n",
    "        self.genfile()\n",
    "        self.gendata()\n",
    "        try: segmentsfiles = list(filter(lambda x:x.split('.')[1]=='txt',os.listdir(self.sgmtdatfileloc)))\n",
    "        except Exception as e:\n",
    "            traceback.print_exc()\n",
    "            sys.exit(3)\n",
    "#         print(len(segmentsfiles))\n",
    "#         count=0\n",
    "        for i in tqdm(segmentsfiles):\n",
    "#             print(self.CorrectFileName(i))\n",
    "#             count+=1\n",
    "            if(self.CorrectFileName(i) in self.filedict and self.CorrectFileName(i) in self.datadict):\n",
    "                stamps = self.getsegments(i)\n",
    "                fileloc = os.path.join(self.sentence_npy,self.filedict[self.CorrectFileName(i)])\n",
    "                data = np.load(fileloc)\n",
    "                word_count = {}\n",
    "                length = data[0].shape[0]\n",
    "                if(length==0 or len(stamps)==0): continue\n",
    "                maxtime = stamps[-1][1]\n",
    "                for current in stamps:\n",
    "                    start,end,word=int((current[0]*length)/maxtime),int((current[1]*length)/maxtime),current[2]\n",
    "                    if(word in word_count): word_count[word]+=1\n",
    "                    else: word_count[word]=1\n",
    "                    npysave = data[start:end]\n",
    "                    with open(os.path.join(self.saveloc,f'{self.CorrectFileName(i)}_{word}_{word_count[word]}.npy'),'wb+') as f: \n",
    "                        np.save(f,npysave)\n",
    "                    val = [f'{self.CorrectFileName(i)}_{word}_{word_count[word]}.npy']\n",
    "                    val = val + list(self.datadict[self.CorrectFileName(i)])\n",
    "                    self.newdata.append(val)\n",
    "        df = pd.DataFrame(self.newdata)\n",
    "#         print(count)\n",
    "        df = df.set_axis(self.columns,axis=1)\n",
    "        df.to_csv('newdata.csv',index=False)\n",
    "\n",
    "if __name__ == '__main__':\n",
    "    savingloc = './words_npy/'\n",
    "    datacsv = './data.csv'\n",
    "    sentence_npy = './student_resampled_wav/'\n",
    "    segmentdatafileloc = './word_level_boundaries/'\n",
    "    cinstance = Words_Seperator(datacsv,segmentdatafileloc,savingloc,sentence_npy)\n",
    "    cinstance.run()\n"
   ]
  },
  {
   "cell_type": "code",
   "execution_count": null,
   "id": "3a99d1d7",
   "metadata": {},
   "outputs": [],
   "source": []
  },
  {
   "cell_type": "code",
   "execution_count": null,
   "id": "eb8fb82f",
   "metadata": {},
   "outputs": [],
   "source": []
  }
 ],
 "metadata": {
  "kernelspec": {
   "display_name": "Python 3 (ipykernel)",
   "language": "python",
   "name": "python3"
  },
  "language_info": {
   "codemirror_mode": {
    "name": "ipython",
    "version": 3
   },
   "file_extension": ".py",
   "mimetype": "text/x-python",
   "name": "python",
   "nbconvert_exporter": "python",
   "pygments_lexer": "ipython3",
   "version": "3.8.10"
  }
 },
 "nbformat": 4,
 "nbformat_minor": 5
}
